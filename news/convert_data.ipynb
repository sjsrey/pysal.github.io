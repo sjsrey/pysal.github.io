{
 "cells": [
  {
   "cell_type": "code",
   "execution_count": 50,
   "metadata": {},
   "outputs": [],
   "source": [
    "from bs4 import BeautifulSoup\n",
    "\n"
   ]
  },
  {
   "cell_type": "code",
   "execution_count": 1,
   "metadata": {},
   "outputs": [],
   "source": [
    "data = \"\"\"\n",
    "- name: New splot JOSS paper.\n",
    "  date: 2020-03-28\n",
    "  summary: A new <a href=\"https://joss.theoj.org/papers/10.21105/joss.01882\">JOSS paper</a> has been published that highlights <a href=\"https://splot.readthedocs.io/en/latest\">splot</a>.\n",
    "- name: spaghetti 1.4.2.post2\n",
    "  date: 2020-02-24\n",
    "  summary: <a href=\"https://pysal.org/spaghetti/\">spaghetti 1.4.2.post2</a> released on <a href=\"https://pypi.org/project/spaghetti/1.4.2.post2/\">PyPI</a> and <a href=\"https://anaconda.org/conda-forge/spaghetti\">conda-forge</a>. This release focuses on improved testing and functionality, specifically component and shortest path feature extraction. See the <a href=\"https://github.com/pysal/spaghetti/releases/tag/v1.4.2\">v1.4.2</a>, <a href=\"https://github.com/pysal/spaghetti/releases/tag/v1.4.2post1\">v1.4.2.post1</a>, and <a href=\"https://github.com/pysal/spaghetti/releases/tag/v1.4.2.post2\">v1.4.2.post2</a> release notes for more details.\n",
    "\n",
    "- name: pysal 2.2.0\n",
    "  date: 2020-02-13\n",
    "  summary: <a href=\"https://pysal.org/pysal/\">pysal 2.2.0</a> released on <a href=\"https://pypi.org/project/pysal/2.2.0/\">PyPI</a>. <a href=\"https://github.com/pysal/pysal/releases/tag/v2.2.0\">Release Notes</a>.\n",
    "\n",
    "- name: esda 2.2.1\n",
    "  date: 2020-02-01\n",
    "  summary: <a href=\"https://pysal.org/esda/\">esda 2.2.1</a> released on <a href=\"https://pypi.org/project/esda/2.2.1/\">PyPI</a>. This release includes bug fixes related to the Pandas 1.0 release. <a href=\"https://github.com/pysal/esda/releases/tag/v2.2.1\">Release Notes are here</a>.\n",
    "\n",
    "- name: libpysal 4.2.2\n",
    "  date: 2020-02-01\n",
    "  summary: <a href=\"https://pysal.org/libpysal/\">libpysal 4.2.2</a> released on <a href=\"https://pypi.org/project/libpysal/4.2.2/\">PyPI</a>. This release includes bug fixes related to the Pandas 1.0 release. <a href=\"https://github.com/pysal/libpysal/releases/tag/v4.2.2\">Release Notes</a>.\n",
    "\n",
    "- name: spaghetti 1.4.1\n",
    "  date: 2020-01-25\n",
    "  summary: <a href=\"https://pysal.org/spaghetti/\">spaghetti 1.4.1</a> released on <a href=\"https://pypi.org/project/spaghetti/1.4.1/\">PyPI</a> and <a href=\"https://anaconda.org/conda-forge/spaghetti\">conda-forge</a>. This release includes new functionality with handling PySAL geometries and shortest path extraction, among other <a href=\"https://github.com/pysal/spaghetti/releases/tag/v1.4.1\">enhancements and bug fixes</a>.\n",
    "\n",
    "- name: mapclassify 2.2.0\n",
    "  date: 2020-01-04\n",
    "  summary: <a href=\"https://pysal.org/mapclassify/\">mapclassify 2.2.0</a> released on <a href=\"https://pypi.org/project/mapclassify/2.2.0/\">PyPI</a>. This release includes <a href=\"https://github.com/sjsrey/geopandas/blob/legendkwds/examples/choro_legends.ipynb\">new legend formatting functionality</a> among other <a href=\"https://github.com/pysal/mapclassify/releases/tag/v2.2.0\">enhancements and bug fixes</a>.\n",
    "\n",
    "- name: spaghetti 1.4.0\n",
    "  date: 2020-01-03\n",
    "  summary: <a href=\"https://pysal.org/spaghetti/\">spaghetti 1.4.0</a> released on <a href=\"https://pypi.org/project/spaghetti/1.4.0/\">PyPI</a> and <a href=\"https://anaconda.org/conda-forge/spaghetti\">conda-forge</a>. This release includes major improvements to the API documentation and notebooks/tutorials.\n",
    "\n",
    "- name: libpysal 4.2.0\n",
    "  date: 2019-12-14\n",
    "  summary: <a href=\"https://pysal.org/libpysal/\">libpysal 4.2.0</a> released and available on <a href=\"https://pypi.org/project/libpysal/4.2.0/\">PyPI</a> and <a href=\"https://anaconda.org/conda-forge/libpysal\">conda-forge</a>.\n",
    "\n",
    "- name: Geocomputation 2019\n",
    "  date: 2019-09-18\n",
    "  summary: Spatial Data Science with PySAL workshop at <a href=\"https://github.com/sjsrey/pysalworkshop/tree/2019-geocomputation\">Gecomputation 2019</a>.\n",
    "\n",
    "- name: gds-book\n",
    "  date: 2019-08-30\n",
    "  summary: A new book is in the works! <a href=\"https://twitter.com/darribas/status/1167038806488432640\"> Geographic Data Science with PySAL and the PyData Stack</a>.\n",
    "\n",
    "- name: pysal 2.1.0\n",
    "  date: 2019-07-29\n",
    "  summary: PySAL 2.1.0 is released, representing 6 months of enhancements, bug-fixes, widening of test coverage, and improved documentation. All users are encouraged to upgrade to this version as there are numerous optimizations as well as new features that have been implemented. See the <a href=\"https://github.com/pysal/pysal/releases/tag/v2.1.0\">release notes</a> for details.\n",
    "\n",
    "- name: spaghetti 1.3.1\n",
    "  date: 2019-07-29\n",
    "  summary: <a href=\"https://pysal-spaghetti.readthedocs.io/en/latest/\">spaghetti 1.3.1</a> released on <a href=\"https://pypi.org/project/spaghetti/1.3.1/\">PyPI</a> and <a href=\"https://anaconda.org/conda-forge/spaghetti\">conda-forge</a>.\n",
    "\n",
    "- name: giddy 2.2.1\n",
    "  date: 2019-07-25\n",
    "  summary: <a href=\"https://giddy.readthedocs.io/en/latest/\">giddy 2.2.1</a> released on <a href=\"https://pypi.org/project/giddy/2.2.1/\">PyPI</a> and <a href=\"https://anaconda.org/conda-forge/giddy\">conda-forge</a>.\n",
    "           This release features an addition of several alignment-based sequence analysis methods.\n",
    "           Refer to <a href=\"https://github.com/pysal/giddy/blob/master/notebooks/Sequence.ipynb\">this example notebook</a> to learn more.\n",
    "\n",
    "- name: pointpats 2.1.0\n",
    "  date: 2019-07-01\n",
    "  summary: <a href=\"https://pointpats.readthedocs.io/en/v2.1.0/\">pointpats 2.1.0</a> released on <a href=\"https://pypi.org/project/pointpats/2.1.0/\">PyPI</a> and <a href=\"https://anaconda.org/conda-forge/pointpats\">conda-forge</a>. This is the first version that officially supports Python 3.6 and 3.7 exclusively.\n",
    "\n",
    "- name: SciPy 2019\n",
    "  date: 2019-07-08\n",
    "  summary: A <a href=\"https://www.scipy2019.scipy.org/tutorial/Intermediate-Methods-for-Geospatial-Data-Analysis\">PySAL workshop</a> will be held at <a href=\"https://www.scipy2019.scipy.org/\">SciPy 2019 in Austin, Texas, on July 8, 2019</a>.\n",
    "\n",
    "- name: esda 2.1.0\n",
    "  date: 2019-06-30\n",
    "  summary: <a href=\"https://esda.readthedocs.io/en/latest/\">esda 2.1.0</a> released. <a href=\"https://github.com/pysal/esda/releases\">Changelog</a>.\n",
    "  \n",
    "- name: splot 1.1.0\n",
    "  date: 2019-06-27\n",
    "  summary: <a href=\"https://pypi.org/project/splot/\">splot 1.1.0</a> released with new <a href=\"https://splot.readthedocs.io/en/latest/\">splot documentation website</a>!\n",
    "  \n",
    "- name: mapclassify 2.1.0\n",
    "  date: 2019-06-26\n",
    "  summary: Release of <a href=\"https://pypi.org/project/mapclassify/\">mapclassify 2.1.0</a> including new plot methods!\n",
    "\n",
    "- name: numfocus\n",
    "  date: 2019-06-22\n",
    "  summary: PySAL is now a <a href=\"https://numfocus.org/sponsored-projects/affiliated-projects\">NumFOCUS affilated project</a>.\n",
    "\n",
    "- name: giddy 2.2.0\n",
    "  date: 2019-06-20\n",
    "  summary: <a href=\"https://giddy.readthedocs.io/en/latest/\">giddy 2.2.0</a> released on <a href=\"https://pypi.org/project/giddy/2.2.0/\">PyPI</a> and <a href=\"https://anaconda.org/conda-forge/giddy\">conda-forge</a>. This is the first version that officially supports Python 3.6 and 3.7 exclusively.\n",
    "\n",
    "- name: spaghetti 1.3\n",
    "  date: 2019-05-22\n",
    "  summary: <a href=\"https://pysal-spaghetti.readthedocs.io/en/latest/\">spaghetti 1.3</a> released on <a href=\"https://pypi.org/project/spaghetti/1.3/\">PyPI</a> and <a href=\"https://anaconda.org/conda-forge/spaghetti\">conda-forge</a>. This is the first version that officially supports Python 3.6 and 3.7 exclusively.\n",
    "\n",
    "- name: spaghetti 1.2\n",
    "  date: 2019-05-11\n",
    "  summary: <a href=\"https://github.com/conda-forge/spaghetti-feedstock\">spaghetti (1.2)</a> now available via <a href=\"https://conda-forge.org\">conda-forge</a>.\n",
    "\n",
    "- name: giddy 2.1.0\n",
    "  date: 2019-04-08\n",
    "  summary: Release of <a href=\"https://pypi.org/project/giddy\">giddy 2.1.0</a> featuring the addition of two rank-based Markov classes for spatial distribution dynamics research.\n",
    "  \n",
    "- name: gsoc19\n",
    "  date: 2019-03-03\n",
    "  summary: PySAL is participating in Google Summer of Code under the <a href=\"http://python-gsoc.org/\">Python Organization GSOC</a>.\n",
    "\n",
    "- name: spaghetti 1.2\n",
    "  date: 2019-02-27\n",
    "  summary: Third stable release of <a href=\"https://pypi.org/project/spaghetti/\">spaghetti (1.2)</a>.\n",
    "\n",
    "- name: foss4g\n",
    "  date: 2019-02-15\n",
    "  summary: A PySAL workshop will be held at <a href=\"https://2019.foss4g-na.org/\">FOSS4G in San Diego, on April 19, 2019</a>.\n",
    "\n",
    "- name: pysal 2.0.0\n",
    "  date: 2019-01-31\n",
    "  summary: First stable release of <a href=\"https://pypi.org/project/pysal/2.0.0/\">PySAL 2.0 as a meta-package</a>.\n",
    "  \n",
    "- name: splot 1.0.0\n",
    "  date: 2018-11-30\n",
    "  summary: First stable release of our new visualization package <a href=\"https://pypi.org/project/splot/1.0.0/\">splot </a>.\n",
    "\n",
    "- name: narsc18\n",
    "  date: 2018-11-07\n",
    "  summary: A <a href=\"https://github.com/sjsrey/pysalnarsc18\">PySAL Workshop</a> was be held at 65th Annual North American Meetings of the Regional Science Association International, San Antonio, Texas. \n",
    "  \n",
    "- name: spaghetti 1.1.1\n",
    "  date: 2018-10-31\n",
    "  summary: Second stable release of <a href=\"https://pypi.org/project/spaghetti/1.1.1.post3/\">spaghetti (1.1.1.post3)</a> since PySAL refactoring together with new <a href=\"https://pysal-spaghetti.readthedocs.io/\">website</a>.\n",
    "\n",
    "- name: pointpats 2.0.0\n",
    "  date: 2018-10-31\n",
    "  summary: First stable release of pointpats (<a href=\"https://pypi.org/project/pointpats/2.0.0/\">2.0.0</a>) since PySAL refactoring together with the launch of the <a href=\"https://pointpats.readthedocs.io\">pointpats documentation website</a>! \n",
    "\n",
    "- name: mapclassify 2.0.1\n",
    "  date: 2018-10-28\n",
    "  summary: <a href=\"https://pypi.org/project/mapclassify/2.0.1/\">mapclassify 2.0.1</a> released with new <a href=\"https://mapclassify.readthedocs.io/\">mapclassify documentation website</a>! \n",
    "\n",
    "- name: libpysal 4.0.1\n",
    "  date: 2018-10-27\n",
    "  summary: <a href=\"https://pypi.org/project/libpysal/4.0.1/\">libpysal 4.0.1</a> released and we are also launching the <a href=\"https://libpysal.readthedocs.io/en/latest/ \">libpysal documentation website</a>.\n",
    "\n",
    "- name: mgwr 2.0.1\n",
    "  date: 2018-09-28\n",
    "  summary: <a href=\"https://pypi.org/project/mgwr/2.0.1/\">mgwr 2.0.1 released</a> and we are also launching the <a href=\"https://mgwr.readthedocs.io/\">mgwr documentation website</a>.\n",
    "\n",
    "- name: giddy 2.0.0\n",
    "  date: 2018-08-26\n",
    "  summary: <a href=\"https://pypi.python.org/pypi/giddy/2.0.0\">giddy 2.0.0</a> released.\n",
    "\n",
    "- name: esda 2.0.0\n",
    "  date: 2018-08-25\n",
    "  summary: <a href=\"https://pypi.org/project/esda/2.0.0/\">esda 2.0.0</a> released.\n",
    "\n",
    "- name: spreg 1.0.4\n",
    "  date: 2018-08-24\n",
    "  summary: <a href=\"https://pypi.python.org/pypi/spreg/1.0.4\">spreg 1.0.4</a> released.\n",
    "\n",
    "- name: libpysal 4.0.0\n",
    "  date: 2018-08-22\n",
    "  summary: <a href=\"https://pypi.org/project/libpysal/4.0.0\">libpysal 4.0.0</a> released.\n",
    "  \n",
    "- name: mapclassify 2.0.0\n",
    "  date: 2018-08-10\n",
    "  summary: <a href=\"https://pypi.org/project/mapclassify/2.0.0\">mapclassify 2.0.0</a> released.\n",
    "\n",
    "\n",
    "\n",
    "\"\"\""
   ]
  },
  {
   "cell_type": "code",
   "execution_count": 14,
   "metadata": {},
   "outputs": [],
   "source": [
    "import yaml"
   ]
  },
  {
   "cell_type": "code",
   "execution_count": 18,
   "metadata": {},
   "outputs": [
    {
     "name": "stderr",
     "output_type": "stream",
     "text": [
      "/Users/serge/anaconda3/lib/python3.7/site-packages/ipykernel_launcher.py:1: YAMLLoadWarning: calling yaml.load() without Loader=... is deprecated, as the default Loader is unsafe. Please read https://msg.pyyaml.org/load for full details.\n",
      "  \"\"\"Entry point for launching an IPython kernel.\n"
     ]
    }
   ],
   "source": [
    "items = yaml.load(data)"
   ]
  },
  {
   "cell_type": "code",
   "execution_count": 22,
   "metadata": {},
   "outputs": [
    {
     "name": "stdout",
     "output_type": "stream",
     "text": [
      "[{'name': 'New splot JOSS paper.', 'date': datetime.date(2020, 3, 28), 'summary': 'A new <a href=\"https://joss.theoj.org/papers/10.21105/joss.01882\">JOSS paper</a> has been published that highlights <a href=\"https://splot.readthedocs.io/en/latest\">splot</a>.'}, {'name': 'spaghetti 1.4.2.post2', 'date': datetime.date(2020, 2, 24), 'summary': '<a href=\"https://pysal.org/spaghetti/\">spaghetti 1.4.2.post2</a> released on <a href=\"https://pypi.org/project/spaghetti/1.4.2.post2/\">PyPI</a> and <a href=\"https://anaconda.org/conda-forge/spaghetti\">conda-forge</a>. This release focuses on improved testing and functionality, specifically component and shortest path feature extraction. See the <a href=\"https://github.com/pysal/spaghetti/releases/tag/v1.4.2\">v1.4.2</a>, <a href=\"https://github.com/pysal/spaghetti/releases/tag/v1.4.2post1\">v1.4.2.post1</a>, and <a href=\"https://github.com/pysal/spaghetti/releases/tag/v1.4.2.post2\">v1.4.2.post2</a> release notes for more details.'}, {'name': 'pysal 2.2.0', 'date': datetime.date(2020, 2, 13), 'summary': '<a href=\"https://pysal.org/pysal/\">pysal 2.2.0</a> released on <a href=\"https://pypi.org/project/pysal/2.2.0/\">PyPI</a>. <a href=\"https://github.com/pysal/pysal/releases/tag/v2.2.0\">Release Notes</a>.'}, {'name': 'esda 2.2.1', 'date': datetime.date(2020, 2, 1), 'summary': '<a href=\"https://pysal.org/esda/\">esda 2.2.1</a> released on <a href=\"https://pypi.org/project/esda/2.2.1/\">PyPI</a>. This release includes bug fixes related to the Pandas 1.0 release. <a href=\"https://github.com/pysal/esda/releases/tag/v2.2.1\">Release Notes are here</a>.'}, {'name': 'libpysal 4.2.2', 'date': datetime.date(2020, 2, 1), 'summary': '<a href=\"https://pysal.org/libpysal/\">libpysal 4.2.2</a> released on <a href=\"https://pypi.org/project/libpysal/4.2.2/\">PyPI</a>. This release includes bug fixes related to the Pandas 1.0 release. <a href=\"https://github.com/pysal/libpysal/releases/tag/v4.2.2\">Release Notes</a>.'}, {'name': 'spaghetti 1.4.1', 'date': datetime.date(2020, 1, 25), 'summary': '<a href=\"https://pysal.org/spaghetti/\">spaghetti 1.4.1</a> released on <a href=\"https://pypi.org/project/spaghetti/1.4.1/\">PyPI</a> and <a href=\"https://anaconda.org/conda-forge/spaghetti\">conda-forge</a>. This release includes new functionality with handling PySAL geometries and shortest path extraction, among other <a href=\"https://github.com/pysal/spaghetti/releases/tag/v1.4.1\">enhancements and bug fixes</a>.'}, {'name': 'mapclassify 2.2.0', 'date': datetime.date(2020, 1, 4), 'summary': '<a href=\"https://pysal.org/mapclassify/\">mapclassify 2.2.0</a> released on <a href=\"https://pypi.org/project/mapclassify/2.2.0/\">PyPI</a>. This release includes <a href=\"https://github.com/sjsrey/geopandas/blob/legendkwds/examples/choro_legends.ipynb\">new legend formatting functionality</a> among other <a href=\"https://github.com/pysal/mapclassify/releases/tag/v2.2.0\">enhancements and bug fixes</a>.'}, {'name': 'spaghetti 1.4.0', 'date': datetime.date(2020, 1, 3), 'summary': '<a href=\"https://pysal.org/spaghetti/\">spaghetti 1.4.0</a> released on <a href=\"https://pypi.org/project/spaghetti/1.4.0/\">PyPI</a> and <a href=\"https://anaconda.org/conda-forge/spaghetti\">conda-forge</a>. This release includes major improvements to the API documentation and notebooks/tutorials.'}, {'name': 'libpysal 4.2.0', 'date': datetime.date(2019, 12, 14), 'summary': '<a href=\"https://pysal.org/libpysal/\">libpysal 4.2.0</a> released and available on <a href=\"https://pypi.org/project/libpysal/4.2.0/\">PyPI</a> and <a href=\"https://anaconda.org/conda-forge/libpysal\">conda-forge</a>.'}, {'name': 'Geocomputation 2019', 'date': datetime.date(2019, 9, 18), 'summary': 'Spatial Data Science with PySAL workshop at <a href=\"https://github.com/sjsrey/pysalworkshop/tree/2019-geocomputation\">Gecomputation 2019</a>.'}, {'name': 'gds-book', 'date': datetime.date(2019, 8, 30), 'summary': 'A new book is in the works! <a href=\"https://twitter.com/darribas/status/1167038806488432640\"> Geographic Data Science with PySAL and the PyData Stack</a>.'}, {'name': 'pysal 2.1.0', 'date': datetime.date(2019, 7, 29), 'summary': 'PySAL 2.1.0 is released, representing 6 months of enhancements, bug-fixes, widening of test coverage, and improved documentation. All users are encouraged to upgrade to this version as there are numerous optimizations as well as new features that have been implemented. See the <a href=\"https://github.com/pysal/pysal/releases/tag/v2.1.0\">release notes</a> for details.'}, {'name': 'spaghetti 1.3.1', 'date': datetime.date(2019, 7, 29), 'summary': '<a href=\"https://pysal-spaghetti.readthedocs.io/en/latest/\">spaghetti 1.3.1</a> released on <a href=\"https://pypi.org/project/spaghetti/1.3.1/\">PyPI</a> and <a href=\"https://anaconda.org/conda-forge/spaghetti\">conda-forge</a>.'}, {'name': 'giddy 2.2.1', 'date': datetime.date(2019, 7, 25), 'summary': '<a href=\"https://giddy.readthedocs.io/en/latest/\">giddy 2.2.1</a> released on <a href=\"https://pypi.org/project/giddy/2.2.1/\">PyPI</a> and <a href=\"https://anaconda.org/conda-forge/giddy\">conda-forge</a>. This release features an addition of several alignment-based sequence analysis methods. Refer to <a href=\"https://github.com/pysal/giddy/blob/master/notebooks/Sequence.ipynb\">this example notebook</a> to learn more.'}, {'name': 'pointpats 2.1.0', 'date': datetime.date(2019, 7, 1), 'summary': '<a href=\"https://pointpats.readthedocs.io/en/v2.1.0/\">pointpats 2.1.0</a> released on <a href=\"https://pypi.org/project/pointpats/2.1.0/\">PyPI</a> and <a href=\"https://anaconda.org/conda-forge/pointpats\">conda-forge</a>. This is the first version that officially supports Python 3.6 and 3.7 exclusively.'}, {'name': 'SciPy 2019', 'date': datetime.date(2019, 7, 8), 'summary': 'A <a href=\"https://www.scipy2019.scipy.org/tutorial/Intermediate-Methods-for-Geospatial-Data-Analysis\">PySAL workshop</a> will be held at <a href=\"https://www.scipy2019.scipy.org/\">SciPy 2019 in Austin, Texas, on July 8, 2019</a>.'}, {'name': 'esda 2.1.0', 'date': datetime.date(2019, 6, 30), 'summary': '<a href=\"https://esda.readthedocs.io/en/latest/\">esda 2.1.0</a> released. <a href=\"https://github.com/pysal/esda/releases\">Changelog</a>.'}, {'name': 'splot 1.1.0', 'date': datetime.date(2019, 6, 27), 'summary': '<a href=\"https://pypi.org/project/splot/\">splot 1.1.0</a> released with new <a href=\"https://splot.readthedocs.io/en/latest/\">splot documentation website</a>!'}, {'name': 'mapclassify 2.1.0', 'date': datetime.date(2019, 6, 26), 'summary': 'Release of <a href=\"https://pypi.org/project/mapclassify/\">mapclassify 2.1.0</a> including new plot methods!'}, {'name': 'numfocus', 'date': datetime.date(2019, 6, 22), 'summary': 'PySAL is now a <a href=\"https://numfocus.org/sponsored-projects/affiliated-projects\">NumFOCUS affilated project</a>.'}, {'name': 'giddy 2.2.0', 'date': datetime.date(2019, 6, 20), 'summary': '<a href=\"https://giddy.readthedocs.io/en/latest/\">giddy 2.2.0</a> released on <a href=\"https://pypi.org/project/giddy/2.2.0/\">PyPI</a> and <a href=\"https://anaconda.org/conda-forge/giddy\">conda-forge</a>. This is the first version that officially supports Python 3.6 and 3.7 exclusively.'}, {'name': 'spaghetti 1.3', 'date': datetime.date(2019, 5, 22), 'summary': '<a href=\"https://pysal-spaghetti.readthedocs.io/en/latest/\">spaghetti 1.3</a> released on <a href=\"https://pypi.org/project/spaghetti/1.3/\">PyPI</a> and <a href=\"https://anaconda.org/conda-forge/spaghetti\">conda-forge</a>. This is the first version that officially supports Python 3.6 and 3.7 exclusively.'}, {'name': 'spaghetti 1.2', 'date': datetime.date(2019, 5, 11), 'summary': '<a href=\"https://github.com/conda-forge/spaghetti-feedstock\">spaghetti (1.2)</a> now available via <a href=\"https://conda-forge.org\">conda-forge</a>.'}, {'name': 'giddy 2.1.0', 'date': datetime.date(2019, 4, 8), 'summary': 'Release of <a href=\"https://pypi.org/project/giddy\">giddy 2.1.0</a> featuring the addition of two rank-based Markov classes for spatial distribution dynamics research.'}, {'name': 'gsoc19', 'date': datetime.date(2019, 3, 3), 'summary': 'PySAL is participating in Google Summer of Code under the <a href=\"http://python-gsoc.org/\">Python Organization GSOC</a>.'}, {'name': 'spaghetti 1.2', 'date': datetime.date(2019, 2, 27), 'summary': 'Third stable release of <a href=\"https://pypi.org/project/spaghetti/\">spaghetti (1.2)</a>.'}, {'name': 'foss4g', 'date': datetime.date(2019, 2, 15), 'summary': 'A PySAL workshop will be held at <a href=\"https://2019.foss4g-na.org/\">FOSS4G in San Diego, on April 19, 2019</a>.'}, {'name': 'pysal 2.0.0', 'date': datetime.date(2019, 1, 31), 'summary': 'First stable release of <a href=\"https://pypi.org/project/pysal/2.0.0/\">PySAL 2.0 as a meta-package</a>.'}, {'name': 'splot 1.0.0', 'date': datetime.date(2018, 11, 30), 'summary': 'First stable release of our new visualization package <a href=\"https://pypi.org/project/splot/1.0.0/\">splot </a>.'}, {'name': 'narsc18', 'date': datetime.date(2018, 11, 7), 'summary': 'A <a href=\"https://github.com/sjsrey/pysalnarsc18\">PySAL Workshop</a> was be held at 65th Annual North American Meetings of the Regional Science Association International, San Antonio, Texas.'}, {'name': 'spaghetti 1.1.1', 'date': datetime.date(2018, 10, 31), 'summary': 'Second stable release of <a href=\"https://pypi.org/project/spaghetti/1.1.1.post3/\">spaghetti (1.1.1.post3)</a> since PySAL refactoring together with new <a href=\"https://pysal-spaghetti.readthedocs.io/\">website</a>.'}, {'name': 'pointpats 2.0.0', 'date': datetime.date(2018, 10, 31), 'summary': 'First stable release of pointpats (<a href=\"https://pypi.org/project/pointpats/2.0.0/\">2.0.0</a>) since PySAL refactoring together with the launch of the <a href=\"https://pointpats.readthedocs.io\">pointpats documentation website</a>!'}, {'name': 'mapclassify 2.0.1', 'date': datetime.date(2018, 10, 28), 'summary': '<a href=\"https://pypi.org/project/mapclassify/2.0.1/\">mapclassify 2.0.1</a> released with new <a href=\"https://mapclassify.readthedocs.io/\">mapclassify documentation website</a>!'}, {'name': 'libpysal 4.0.1', 'date': datetime.date(2018, 10, 27), 'summary': '<a href=\"https://pypi.org/project/libpysal/4.0.1/\">libpysal 4.0.1</a> released and we are also launching the <a href=\"https://libpysal.readthedocs.io/en/latest/ \">libpysal documentation website</a>.'}, {'name': 'mgwr 2.0.1', 'date': datetime.date(2018, 9, 28), 'summary': '<a href=\"https://pypi.org/project/mgwr/2.0.1/\">mgwr 2.0.1 released</a> and we are also launching the <a href=\"https://mgwr.readthedocs.io/\">mgwr documentation website</a>.'}, {'name': 'giddy 2.0.0', 'date': datetime.date(2018, 8, 26), 'summary': '<a href=\"https://pypi.python.org/pypi/giddy/2.0.0\">giddy 2.0.0</a> released.'}, {'name': 'esda 2.0.0', 'date': datetime.date(2018, 8, 25), 'summary': '<a href=\"https://pypi.org/project/esda/2.0.0/\">esda 2.0.0</a> released.'}, {'name': 'spreg 1.0.4', 'date': datetime.date(2018, 8, 24), 'summary': '<a href=\"https://pypi.python.org/pypi/spreg/1.0.4\">spreg 1.0.4</a> released.'}, {'name': 'libpysal 4.0.0', 'date': datetime.date(2018, 8, 22), 'summary': '<a href=\"https://pypi.org/project/libpysal/4.0.0\">libpysal 4.0.0</a> released.'}, {'name': 'mapclassify 2.0.0', 'date': datetime.date(2018, 8, 10), 'summary': '<a href=\"https://pypi.org/project/mapclassify/2.0.0\">mapclassify 2.0.0</a> released.'}]\n"
     ]
    }
   ],
   "source": [
    "print(items)"
   ]
  },
  {
   "cell_type": "code",
   "execution_count": 23,
   "metadata": {},
   "outputs": [
    {
     "name": "stdout",
     "output_type": "stream",
     "text": [
      "{'name': 'New splot JOSS paper.', 'date': datetime.date(2020, 3, 28), 'summary': 'A new <a href=\"https://joss.theoj.org/papers/10.21105/joss.01882\">JOSS paper</a> has been published that highlights <a href=\"https://splot.readthedocs.io/en/latest\">splot</a>.'}\n",
      "{'name': 'spaghetti 1.4.2.post2', 'date': datetime.date(2020, 2, 24), 'summary': '<a href=\"https://pysal.org/spaghetti/\">spaghetti 1.4.2.post2</a> released on <a href=\"https://pypi.org/project/spaghetti/1.4.2.post2/\">PyPI</a> and <a href=\"https://anaconda.org/conda-forge/spaghetti\">conda-forge</a>. This release focuses on improved testing and functionality, specifically component and shortest path feature extraction. See the <a href=\"https://github.com/pysal/spaghetti/releases/tag/v1.4.2\">v1.4.2</a>, <a href=\"https://github.com/pysal/spaghetti/releases/tag/v1.4.2post1\">v1.4.2.post1</a>, and <a href=\"https://github.com/pysal/spaghetti/releases/tag/v1.4.2.post2\">v1.4.2.post2</a> release notes for more details.'}\n",
      "{'name': 'pysal 2.2.0', 'date': datetime.date(2020, 2, 13), 'summary': '<a href=\"https://pysal.org/pysal/\">pysal 2.2.0</a> released on <a href=\"https://pypi.org/project/pysal/2.2.0/\">PyPI</a>. <a href=\"https://github.com/pysal/pysal/releases/tag/v2.2.0\">Release Notes</a>.'}\n",
      "{'name': 'esda 2.2.1', 'date': datetime.date(2020, 2, 1), 'summary': '<a href=\"https://pysal.org/esda/\">esda 2.2.1</a> released on <a href=\"https://pypi.org/project/esda/2.2.1/\">PyPI</a>. This release includes bug fixes related to the Pandas 1.0 release. <a href=\"https://github.com/pysal/esda/releases/tag/v2.2.1\">Release Notes are here</a>.'}\n",
      "{'name': 'libpysal 4.2.2', 'date': datetime.date(2020, 2, 1), 'summary': '<a href=\"https://pysal.org/libpysal/\">libpysal 4.2.2</a> released on <a href=\"https://pypi.org/project/libpysal/4.2.2/\">PyPI</a>. This release includes bug fixes related to the Pandas 1.0 release. <a href=\"https://github.com/pysal/libpysal/releases/tag/v4.2.2\">Release Notes</a>.'}\n",
      "{'name': 'spaghetti 1.4.1', 'date': datetime.date(2020, 1, 25), 'summary': '<a href=\"https://pysal.org/spaghetti/\">spaghetti 1.4.1</a> released on <a href=\"https://pypi.org/project/spaghetti/1.4.1/\">PyPI</a> and <a href=\"https://anaconda.org/conda-forge/spaghetti\">conda-forge</a>. This release includes new functionality with handling PySAL geometries and shortest path extraction, among other <a href=\"https://github.com/pysal/spaghetti/releases/tag/v1.4.1\">enhancements and bug fixes</a>.'}\n",
      "{'name': 'mapclassify 2.2.0', 'date': datetime.date(2020, 1, 4), 'summary': '<a href=\"https://pysal.org/mapclassify/\">mapclassify 2.2.0</a> released on <a href=\"https://pypi.org/project/mapclassify/2.2.0/\">PyPI</a>. This release includes <a href=\"https://github.com/sjsrey/geopandas/blob/legendkwds/examples/choro_legends.ipynb\">new legend formatting functionality</a> among other <a href=\"https://github.com/pysal/mapclassify/releases/tag/v2.2.0\">enhancements and bug fixes</a>.'}\n",
      "{'name': 'spaghetti 1.4.0', 'date': datetime.date(2020, 1, 3), 'summary': '<a href=\"https://pysal.org/spaghetti/\">spaghetti 1.4.0</a> released on <a href=\"https://pypi.org/project/spaghetti/1.4.0/\">PyPI</a> and <a href=\"https://anaconda.org/conda-forge/spaghetti\">conda-forge</a>. This release includes major improvements to the API documentation and notebooks/tutorials.'}\n",
      "{'name': 'libpysal 4.2.0', 'date': datetime.date(2019, 12, 14), 'summary': '<a href=\"https://pysal.org/libpysal/\">libpysal 4.2.0</a> released and available on <a href=\"https://pypi.org/project/libpysal/4.2.0/\">PyPI</a> and <a href=\"https://anaconda.org/conda-forge/libpysal\">conda-forge</a>.'}\n",
      "{'name': 'Geocomputation 2019', 'date': datetime.date(2019, 9, 18), 'summary': 'Spatial Data Science with PySAL workshop at <a href=\"https://github.com/sjsrey/pysalworkshop/tree/2019-geocomputation\">Gecomputation 2019</a>.'}\n",
      "{'name': 'gds-book', 'date': datetime.date(2019, 8, 30), 'summary': 'A new book is in the works! <a href=\"https://twitter.com/darribas/status/1167038806488432640\"> Geographic Data Science with PySAL and the PyData Stack</a>.'}\n",
      "{'name': 'pysal 2.1.0', 'date': datetime.date(2019, 7, 29), 'summary': 'PySAL 2.1.0 is released, representing 6 months of enhancements, bug-fixes, widening of test coverage, and improved documentation. All users are encouraged to upgrade to this version as there are numerous optimizations as well as new features that have been implemented. See the <a href=\"https://github.com/pysal/pysal/releases/tag/v2.1.0\">release notes</a> for details.'}\n",
      "{'name': 'spaghetti 1.3.1', 'date': datetime.date(2019, 7, 29), 'summary': '<a href=\"https://pysal-spaghetti.readthedocs.io/en/latest/\">spaghetti 1.3.1</a> released on <a href=\"https://pypi.org/project/spaghetti/1.3.1/\">PyPI</a> and <a href=\"https://anaconda.org/conda-forge/spaghetti\">conda-forge</a>.'}\n",
      "{'name': 'giddy 2.2.1', 'date': datetime.date(2019, 7, 25), 'summary': '<a href=\"https://giddy.readthedocs.io/en/latest/\">giddy 2.2.1</a> released on <a href=\"https://pypi.org/project/giddy/2.2.1/\">PyPI</a> and <a href=\"https://anaconda.org/conda-forge/giddy\">conda-forge</a>. This release features an addition of several alignment-based sequence analysis methods. Refer to <a href=\"https://github.com/pysal/giddy/blob/master/notebooks/Sequence.ipynb\">this example notebook</a> to learn more.'}\n",
      "{'name': 'pointpats 2.1.0', 'date': datetime.date(2019, 7, 1), 'summary': '<a href=\"https://pointpats.readthedocs.io/en/v2.1.0/\">pointpats 2.1.0</a> released on <a href=\"https://pypi.org/project/pointpats/2.1.0/\">PyPI</a> and <a href=\"https://anaconda.org/conda-forge/pointpats\">conda-forge</a>. This is the first version that officially supports Python 3.6 and 3.7 exclusively.'}\n",
      "{'name': 'SciPy 2019', 'date': datetime.date(2019, 7, 8), 'summary': 'A <a href=\"https://www.scipy2019.scipy.org/tutorial/Intermediate-Methods-for-Geospatial-Data-Analysis\">PySAL workshop</a> will be held at <a href=\"https://www.scipy2019.scipy.org/\">SciPy 2019 in Austin, Texas, on July 8, 2019</a>.'}\n",
      "{'name': 'esda 2.1.0', 'date': datetime.date(2019, 6, 30), 'summary': '<a href=\"https://esda.readthedocs.io/en/latest/\">esda 2.1.0</a> released. <a href=\"https://github.com/pysal/esda/releases\">Changelog</a>.'}\n",
      "{'name': 'splot 1.1.0', 'date': datetime.date(2019, 6, 27), 'summary': '<a href=\"https://pypi.org/project/splot/\">splot 1.1.0</a> released with new <a href=\"https://splot.readthedocs.io/en/latest/\">splot documentation website</a>!'}\n",
      "{'name': 'mapclassify 2.1.0', 'date': datetime.date(2019, 6, 26), 'summary': 'Release of <a href=\"https://pypi.org/project/mapclassify/\">mapclassify 2.1.0</a> including new plot methods!'}\n",
      "{'name': 'numfocus', 'date': datetime.date(2019, 6, 22), 'summary': 'PySAL is now a <a href=\"https://numfocus.org/sponsored-projects/affiliated-projects\">NumFOCUS affilated project</a>.'}\n",
      "{'name': 'giddy 2.2.0', 'date': datetime.date(2019, 6, 20), 'summary': '<a href=\"https://giddy.readthedocs.io/en/latest/\">giddy 2.2.0</a> released on <a href=\"https://pypi.org/project/giddy/2.2.0/\">PyPI</a> and <a href=\"https://anaconda.org/conda-forge/giddy\">conda-forge</a>. This is the first version that officially supports Python 3.6 and 3.7 exclusively.'}\n",
      "{'name': 'spaghetti 1.3', 'date': datetime.date(2019, 5, 22), 'summary': '<a href=\"https://pysal-spaghetti.readthedocs.io/en/latest/\">spaghetti 1.3</a> released on <a href=\"https://pypi.org/project/spaghetti/1.3/\">PyPI</a> and <a href=\"https://anaconda.org/conda-forge/spaghetti\">conda-forge</a>. This is the first version that officially supports Python 3.6 and 3.7 exclusively.'}\n",
      "{'name': 'spaghetti 1.2', 'date': datetime.date(2019, 5, 11), 'summary': '<a href=\"https://github.com/conda-forge/spaghetti-feedstock\">spaghetti (1.2)</a> now available via <a href=\"https://conda-forge.org\">conda-forge</a>.'}\n",
      "{'name': 'giddy 2.1.0', 'date': datetime.date(2019, 4, 8), 'summary': 'Release of <a href=\"https://pypi.org/project/giddy\">giddy 2.1.0</a> featuring the addition of two rank-based Markov classes for spatial distribution dynamics research.'}\n",
      "{'name': 'gsoc19', 'date': datetime.date(2019, 3, 3), 'summary': 'PySAL is participating in Google Summer of Code under the <a href=\"http://python-gsoc.org/\">Python Organization GSOC</a>.'}\n",
      "{'name': 'spaghetti 1.2', 'date': datetime.date(2019, 2, 27), 'summary': 'Third stable release of <a href=\"https://pypi.org/project/spaghetti/\">spaghetti (1.2)</a>.'}\n",
      "{'name': 'foss4g', 'date': datetime.date(2019, 2, 15), 'summary': 'A PySAL workshop will be held at <a href=\"https://2019.foss4g-na.org/\">FOSS4G in San Diego, on April 19, 2019</a>.'}\n",
      "{'name': 'pysal 2.0.0', 'date': datetime.date(2019, 1, 31), 'summary': 'First stable release of <a href=\"https://pypi.org/project/pysal/2.0.0/\">PySAL 2.0 as a meta-package</a>.'}\n",
      "{'name': 'splot 1.0.0', 'date': datetime.date(2018, 11, 30), 'summary': 'First stable release of our new visualization package <a href=\"https://pypi.org/project/splot/1.0.0/\">splot </a>.'}\n",
      "{'name': 'narsc18', 'date': datetime.date(2018, 11, 7), 'summary': 'A <a href=\"https://github.com/sjsrey/pysalnarsc18\">PySAL Workshop</a> was be held at 65th Annual North American Meetings of the Regional Science Association International, San Antonio, Texas.'}\n",
      "{'name': 'spaghetti 1.1.1', 'date': datetime.date(2018, 10, 31), 'summary': 'Second stable release of <a href=\"https://pypi.org/project/spaghetti/1.1.1.post3/\">spaghetti (1.1.1.post3)</a> since PySAL refactoring together with new <a href=\"https://pysal-spaghetti.readthedocs.io/\">website</a>.'}\n",
      "{'name': 'pointpats 2.0.0', 'date': datetime.date(2018, 10, 31), 'summary': 'First stable release of pointpats (<a href=\"https://pypi.org/project/pointpats/2.0.0/\">2.0.0</a>) since PySAL refactoring together with the launch of the <a href=\"https://pointpats.readthedocs.io\">pointpats documentation website</a>!'}\n",
      "{'name': 'mapclassify 2.0.1', 'date': datetime.date(2018, 10, 28), 'summary': '<a href=\"https://pypi.org/project/mapclassify/2.0.1/\">mapclassify 2.0.1</a> released with new <a href=\"https://mapclassify.readthedocs.io/\">mapclassify documentation website</a>!'}\n",
      "{'name': 'libpysal 4.0.1', 'date': datetime.date(2018, 10, 27), 'summary': '<a href=\"https://pypi.org/project/libpysal/4.0.1/\">libpysal 4.0.1</a> released and we are also launching the <a href=\"https://libpysal.readthedocs.io/en/latest/ \">libpysal documentation website</a>.'}\n",
      "{'name': 'mgwr 2.0.1', 'date': datetime.date(2018, 9, 28), 'summary': '<a href=\"https://pypi.org/project/mgwr/2.0.1/\">mgwr 2.0.1 released</a> and we are also launching the <a href=\"https://mgwr.readthedocs.io/\">mgwr documentation website</a>.'}\n",
      "{'name': 'giddy 2.0.0', 'date': datetime.date(2018, 8, 26), 'summary': '<a href=\"https://pypi.python.org/pypi/giddy/2.0.0\">giddy 2.0.0</a> released.'}\n",
      "{'name': 'esda 2.0.0', 'date': datetime.date(2018, 8, 25), 'summary': '<a href=\"https://pypi.org/project/esda/2.0.0/\">esda 2.0.0</a> released.'}\n",
      "{'name': 'spreg 1.0.4', 'date': datetime.date(2018, 8, 24), 'summary': '<a href=\"https://pypi.python.org/pypi/spreg/1.0.4\">spreg 1.0.4</a> released.'}\n",
      "{'name': 'libpysal 4.0.0', 'date': datetime.date(2018, 8, 22), 'summary': '<a href=\"https://pypi.org/project/libpysal/4.0.0\">libpysal 4.0.0</a> released.'}\n",
      "{'name': 'mapclassify 2.0.0', 'date': datetime.date(2018, 8, 10), 'summary': '<a href=\"https://pypi.org/project/mapclassify/2.0.0\">mapclassify 2.0.0</a> released.'}\n"
     ]
    }
   ],
   "source": [
    "for item in items:\n",
    "    print(item)"
   ]
  },
  {
   "cell_type": "code",
   "execution_count": 24,
   "metadata": {},
   "outputs": [
    {
     "data": {
      "text/plain": [
       "{'name': 'mapclassify 2.0.0',\n",
       " 'date': datetime.date(2018, 8, 10),\n",
       " 'summary': '<a href=\"https://pypi.org/project/mapclassify/2.0.0\">mapclassify 2.0.0</a> released.'}"
      ]
     },
     "execution_count": 24,
     "metadata": {},
     "output_type": "execute_result"
    }
   ],
   "source": [
    "item"
   ]
  },
  {
   "cell_type": "code",
   "execution_count": 55,
   "metadata": {},
   "outputs": [],
   "source": [
    "def mapping(item):\n",
    "    title = item['name']\n",
    "    date = item['date']\n",
    "    soup = BeautifulSoup(item['summary'])\n",
    "    description = soup.get_text()\n",
    "    content = item['summary']\n",
    "    s = f'---\\ntitle: {title}\\ndate: {date}\\ndescription: {description}\\ntype: news\\n---'\n",
    "    s = f'{s}\\n\\n{content}'\n",
    "    return s"
   ]
  },
  {
   "cell_type": "code",
   "execution_count": 56,
   "metadata": {},
   "outputs": [
    {
     "data": {
      "text/plain": [
       "'---\\ntitle: mapclassify 2.0.0\\ndate: 2018-08-10\\ndescription: mapclassify 2.0.0 released.\\ntype: news\\n---\\n\\n<a href=\"https://pypi.org/project/mapclassify/2.0.0\">mapclassify 2.0.0</a> released.'"
      ]
     },
     "execution_count": 56,
     "metadata": {},
     "output_type": "execute_result"
    }
   ],
   "source": [
    "mapping(item)"
   ]
  },
  {
   "cell_type": "code",
   "execution_count": 57,
   "metadata": {},
   "outputs": [
    {
     "name": "stdout",
     "output_type": "stream",
     "text": [
      "---\n",
      "title: mapclassify 2.0.0\n",
      "date: 2018-08-10\n",
      "description: mapclassify 2.0.0 released.\n",
      "type: news\n",
      "---\n",
      "\n",
      "<a href=\"https://pypi.org/project/mapclassify/2.0.0\">mapclassify 2.0.0</a> released.\n"
     ]
    }
   ],
   "source": [
    "print(mapping(item))"
   ]
  },
  {
   "cell_type": "code",
   "execution_count": 58,
   "metadata": {},
   "outputs": [],
   "source": [
    "def to_file(item):\n",
    "    fname = item['name']\n",
    "    fname = fname.replace(\" \",\"_\")\n",
    "    fname = fname+\".md\"\n",
    "    print(fname)\n",
    "    with open(fname, 'w') as output:\n",
    "        output.write(mapping(item))"
   ]
  },
  {
   "cell_type": "code",
   "execution_count": 59,
   "metadata": {},
   "outputs": [
    {
     "name": "stdout",
     "output_type": "stream",
     "text": [
      "mapclassify_2.0.0.md\n"
     ]
    }
   ],
   "source": [
    "to_file(item)"
   ]
  },
  {
   "cell_type": "code",
   "execution_count": 60,
   "metadata": {},
   "outputs": [
    {
     "name": "stdout",
     "output_type": "stream",
     "text": [
      "New_splot_JOSS_paper..md\n",
      "spaghetti_1.4.2.post2.md\n",
      "pysal_2.2.0.md\n",
      "esda_2.2.1.md\n",
      "libpysal_4.2.2.md\n",
      "spaghetti_1.4.1.md\n",
      "mapclassify_2.2.0.md\n",
      "spaghetti_1.4.0.md\n",
      "libpysal_4.2.0.md\n",
      "Geocomputation_2019.md\n",
      "gds-book.md\n",
      "pysal_2.1.0.md\n",
      "spaghetti_1.3.1.md\n",
      "giddy_2.2.1.md\n",
      "pointpats_2.1.0.md\n",
      "SciPy_2019.md\n",
      "esda_2.1.0.md\n",
      "splot_1.1.0.md\n",
      "mapclassify_2.1.0.md\n",
      "numfocus.md\n",
      "giddy_2.2.0.md\n",
      "spaghetti_1.3.md\n",
      "spaghetti_1.2.md\n",
      "giddy_2.1.0.md\n",
      "gsoc19.md\n",
      "spaghetti_1.2.md\n",
      "foss4g.md\n",
      "pysal_2.0.0.md\n",
      "splot_1.0.0.md\n",
      "narsc18.md\n",
      "spaghetti_1.1.1.md\n",
      "pointpats_2.0.0.md\n",
      "mapclassify_2.0.1.md\n",
      "libpysal_4.0.1.md\n",
      "mgwr_2.0.1.md\n",
      "giddy_2.0.0.md\n",
      "esda_2.0.0.md\n",
      "spreg_1.0.4.md\n",
      "libpysal_4.0.0.md\n",
      "mapclassify_2.0.0.md\n"
     ]
    }
   ],
   "source": [
    "for item in items:\n",
    "    to_file(item)"
   ]
  },
  {
   "cell_type": "code",
   "execution_count": null,
   "metadata": {},
   "outputs": [],
   "source": []
  },
  {
   "cell_type": "code",
   "execution_count": null,
   "metadata": {},
   "outputs": [],
   "source": []
  }
 ],
 "metadata": {
  "kernelspec": {
   "display_name": "Python 3",
   "language": "python",
   "name": "python3"
  },
  "language_info": {
   "codemirror_mode": {
    "name": "ipython",
    "version": 3
   },
   "file_extension": ".py",
   "mimetype": "text/x-python",
   "name": "python",
   "nbconvert_exporter": "python",
   "pygments_lexer": "ipython3",
   "version": "3.7.4"
  }
 },
 "nbformat": 4,
 "nbformat_minor": 2
}
